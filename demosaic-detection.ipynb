{
 "cells": [
  {
   "cell_type": "code",
   "id": "initial_id",
   "metadata": {
    "collapsed": true,
    "ExecuteTime": {
     "end_time": "2025-01-31T09:29:54.164665Z",
     "start_time": "2025-01-31T09:29:54.100503Z"
    }
   },
   "source": [
    "import cv2\n",
    "import numpy as np\n",
    "from scipy.ndimage import convolve\n",
    "\n",
    "\n",
    "def blur_img(image, value=15):\n",
    "    return cv2.GaussianBlur(image,(value,value), 0) # most effective in the paper was 12,12, but that's a heavy blur\n",
    "\n",
    "def brightness_img(image, value=125):\n",
    "    hsv = cv2.cvtColor(image, cv2.COLOR_BGR2HSV)\n",
    "    hsv[:,:,2] = cv2.add(hsv[:,:,2], value)\n",
    "    image = cv2.cvtColor(hsv, cv2.COLOR_HSV2BGR)\n",
    "    return image\n",
    "\n",
    "def nodemosaic_img(image):\n",
    "    w, h, _ = image.shape\n",
    "    result = np.zeros((w, h, 3), dtype=np.uint8)        # make a target array, which will be colored with the blue, green, and red values as if it has not been demosaiced\n",
    "    gray_image = cv2.cvtColor(image, cv2.COLOR_BGR2GRAY)\n",
    "    result[::2, ::2, 2] = image[::2, ::2, 2]       # blue\n",
    "    result[1::2, ::2, 1] = image[1::2, ::2, 1]     # green\n",
    "    result[::2, 1::2, 1] = image[::2, 1::2, 1]     # green\n",
    "    result[1::2, 1::2, 0] = image[1::2, 1::2, 0]   # red\n",
    "    return result\n",
    "\n",
    "def demosaic(image):\n",
    "    h, w = image.shape[:2]\n",
    "    result = np.zeros((h, w, 3), dtype=np.uint8)\n",
    "    \n",
    "    kernel_cross = np.array([[0, 1, 0],\n",
    "                           [1, 0, 1],\n",
    "                           [0, 1, 0]]) / 6\n",
    "    \n",
    "    kernel_diagonal = np.array([[1, 0, 1],\n",
    "                              [0, 0, 0],\n",
    "                              [1, 0, 1]]) / 4\n",
    "    \n",
    "    R = image[..., 0]\n",
    "    G = image[..., 1]\n",
    "    B = image[..., 2]\n",
    "    \n",
    "    red_mask = R > 1\n",
    "    blue_mask = B > 1\n",
    "    green_mask = G > 1\n",
    "       \n",
    "    result[..., 0] = np.where(red_mask, R,\n",
    "                             np.where(green_mask,\n",
    "                                     convolve(R, kernel_cross),\n",
    "                                     convolve(R, kernel_diagonal)))\n",
    "    \n",
    "    result[..., 1] = np.where(green_mask, G,\n",
    "                             convolve(G, kernel_cross))\n",
    "    \n",
    "    result[..., 2] = np.where(blue_mask, B,\n",
    "                             np.where(green_mask,\n",
    "                                     convolve(B, kernel_cross),\n",
    "                                     convolve(B, kernel_diagonal)))\n",
    "    \n",
    "    return result\n",
    "\n",
    "image = cv2.imread('driving_image.jpeg')\n",
    "image = cv2.resize(image, (640, 360))\n",
    "# image = cv2.cvtColor(image, cv2.COLOR_BGR2RGB)\n",
    "blurred = blur_img(image)\n",
    "bright = brightness_img(image)\n",
    "nodemosaic = nodemosaic_img(image)\n",
    "demosaic = demosaic(nodemosaic)\n",
    "# nodemosaic = np.uint16(nodemosaic)\n",
    "# demosaic = cv2.demosaicing(nodemosaic, cv2.COLOR_BayerGB2RGB )\n",
    "cv2.imwrite('image.jpg', image)\n",
    "cv2.imwrite('blurred.jpg', blurred)\n",
    "cv2.imwrite('bright.jpg', bright)\n",
    "cv2.imwrite('nodemosaic.jpg', nodemosaic)\n",
    "cv2.imwrite('demosa.jpg', demosaic)\n",
    "# cv2.imwrite('demosaic.jpg', demosaic)\n"
   ],
   "outputs": [
    {
     "data": {
      "text/plain": [
       "True"
      ]
     },
     "execution_count": 10,
     "metadata": {},
     "output_type": "execute_result"
    }
   ],
   "execution_count": 10
  },
  {
   "metadata": {
    "ExecuteTime": {
     "end_time": "2025-01-31T10:52:48.884124Z",
     "start_time": "2025-01-31T10:52:48.878334Z"
    }
   },
   "cell_type": "code",
   "source": [
    "# import cv2\n",
    "# import numpy as np\n",
    "# import matplotlib.pyplot as plt\n",
    "# \n",
    "# \n",
    "# \n",
    "# def plot_image_and_spectrum(img1, title1=\"Image 1\", vmin=None, vmax=None):\n",
    "#     # Set consistent figure size\n",
    "#     plt.figure(figsize=(6, 5))\n",
    "#     \n",
    "#     spectrum1 = compute_magnitude_spectrum(img1)\n",
    "#     plt.imshow(spectrum1, cmap='gray', vmin=vmin, vmax=vmax)\n",
    "#     plt.title(f'Magnitude Spectrum of {title1}')\n",
    "#     plt.colorbar()\n",
    "#     \n",
    "#     plt.show()\n",
    "# \n",
    "# # Read the images\n",
    "\n",
    "# \n",
    "# # Compute both spectrums first to get global min and max\n",
    "# spectrum1 = compute_magnitude_spectrum(img_no_demosaic)\n",
    "# spectrum2 = compute_magnitude_spectrum(img)\n",
    "# \n",
    "# # Find global min and max for consistent colorbar scaling\n",
    "# vmin = min(spectrum1.min(), spectrum2.min())\n",
    "# vmax = max(spectrum1.max(), spectrum2.max())\n",
    "# \n",
    "# # Plot the images and their magnitude spectrums\n",
    "# plot_image_and_spectrum(img_no_demosaic, \n",
    "#                        title1=\"Image - not Demosaiced\",\n",
    "#                        vmin=vmin, vmax=vmax)\n",
    "# plot_image_and_spectrum(img, \n",
    "#                        title1=\"Image - Demosaiced\",\n",
    "#                        vmin=vmin, vmax=vmax)"
   ],
   "id": "814fdf2af52dbba9",
   "outputs": [],
   "execution_count": 46
  },
  {
   "metadata": {
    "ExecuteTime": {
     "end_time": "2025-01-31T10:53:45.540293Z",
     "start_time": "2025-01-31T10:53:45.468357Z"
    }
   },
   "cell_type": "code",
   "source": [
    "img_no_demosaic = cv2.imread('nodemosaic.jpg')\n",
    "img = cv2.imread('driving_image.jpeg')\n",
    "\n",
    "def compute_magnitude_spectrum(image):\n",
    "    # Convert to grayscale if the image is in color\n",
    "    if len(image.shape) == 3:\n",
    "        gray = cv2.cvtColor(image, cv2.COLOR_BGR2GRAY)\n",
    "    else:\n",
    "        gray = image\n",
    "    \n",
    "    f = np.fft.fft2(gray)\n",
    "    fshift = np.fft.fftshift(f)\n",
    "    magnitude_spectrum = 20 * np.log(np.abs(fshift) + 1)\n",
    "    return magnitude_spectrum\n",
    "\n",
    "def analyze_frequency_pattern(magnitude_spectrum):\n",
    "    h, w = magnitude_spectrum.shape\n",
    "    center_h, center_w = h//2, w//2\n",
    "    \n",
    "    low_freq_mask = np.zeros_like(magnitude_spectrum)\n",
    "    low_freq_mask[center_h-10:center_h+10, center_w-10:center_w+10] = 1\n",
    "    \n",
    "    high_freq_mask = np.ones_like(magnitude_spectrum)\n",
    "    high_freq_mask[center_h-50:center_h+50, center_w-50:center_w+50] = 0\n",
    "    \n",
    "    low_freq_energy = np.sum(magnitude_spectrum * low_freq_mask)\n",
    "    high_freq_energy = np.sum(magnitude_spectrum * high_freq_mask)\n",
    "    \n",
    "    return high_freq_energy / low_freq_energy\n",
    "\n",
    "def has_demosaic_failure(input_image):\n",
    "    return analyze_frequency_pattern(compute_magnitude_spectrum(input_image)) < 750\n",
    "\n",
    "\n",
    "print(has_demosaic_failure(img_no_demosaic))\n",
    "print(has_demosaic_failure(img))\n"
   ],
   "id": "ae947d2e65c0dbed",
   "outputs": [
    {
     "name": "stdout",
     "output_type": "stream",
     "text": [
      "True\n",
      "False\n"
     ]
    }
   ],
   "execution_count": 49
  }
 ],
 "metadata": {
  "kernelspec": {
   "display_name": "Python 3",
   "language": "python",
   "name": "python3"
  },
  "language_info": {
   "codemirror_mode": {
    "name": "ipython",
    "version": 2
   },
   "file_extension": ".py",
   "mimetype": "text/x-python",
   "name": "python",
   "nbconvert_exporter": "python",
   "pygments_lexer": "ipython2",
   "version": "2.7.6"
  }
 },
 "nbformat": 4,
 "nbformat_minor": 5
}
